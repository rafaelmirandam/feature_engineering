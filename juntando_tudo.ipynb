{
 "cells": [
  {
   "cell_type": "code",
   "execution_count": 1,
   "id": "aa976b0e-5db3-4f52-89f5-e8914e49e32d",
   "metadata": {},
   "outputs": [
    {
     "name": "stdout",
     "output_type": "stream",
     "text": [
      "Linear Regression:\n",
      "R-squared: 0.6200\n",
      "RMSE: 81.5961\n",
      "Decision Tree Regressor:\n",
      "R-squared: 0.5923\n",
      "RMSE: 84.5259\n"
     ]
    },
    {
     "name": "stderr",
     "output_type": "stream",
     "text": [
      "C:\\Users\\rafae\\AppData\\Local\\Temp\\ipykernel_14640\\2386926493.py:33: FutureWarning: Downcasting behavior in `replace` is deprecated and will be removed in a future version. To retain the old behavior, explicitly call `result.infer_objects(copy=False)`. To opt-in to the future behavior, set `pd.set_option('future.no_silent_downcasting', True)`\n",
      "  df_encoded['sexo'] = df_encoded['sexo'].replace({'M': 1, 'F': 0})\n",
      "C:\\Users\\rafae\\anaconda3\\Lib\\site-packages\\sklearn\\metrics\\_regression.py:483: FutureWarning: 'squared' is deprecated in version 1.4 and will be removed in 1.6. To calculate the root mean squared error, use the function'root_mean_squared_error'.\n",
      "  warnings.warn(\n",
      "C:\\Users\\rafae\\anaconda3\\Lib\\site-packages\\sklearn\\metrics\\_regression.py:483: FutureWarning: 'squared' is deprecated in version 1.4 and will be removed in 1.6. To calculate the root mean squared error, use the function'root_mean_squared_error'.\n",
      "  warnings.warn(\n"
     ]
    }
   ],
   "source": [
    "import pandas as pd\n",
    "from sklearn.model_selection import train_test_split\n",
    "from sklearn.linear_model import LinearRegression\n",
    "from sklearn.tree import DecisionTreeRegressor\n",
    "from sklearn.metrics import r2_score, mean_squared_error\n",
    "\n",
    "# Read the CSV file into a DataFrame\n",
    "df = pd.read_csv('Base_ScoreCredito_QuantumFinance.csv', delimiter=';')\n",
    "\n",
    "# Create a copy of the dataframe\n",
    "df_encoded = df.copy()\n",
    "\n",
    "# Convert `estado_civil` and `escola` to categorical data type\n",
    "df_encoded['estado_civil'] = df_encoded['estado_civil'].astype('category')\n",
    "df_encoded['escola'] = df_encoded['escola'].astype('category')\n",
    "\n",
    "# One-hot encode the `estado_civil` and `escola` columns\n",
    "df_encoded = pd.get_dummies(df_encoded, columns=['estado_civil', 'escola'])\n",
    "\n",
    "# Convert the column `vl_salario_mil` to numeric\n",
    "df_encoded['vl_salario_mil'] = df_encoded['vl_salario_mil'].astype(str).str.replace(',', '.')\n",
    "df_encoded['vl_salario_mil'] = pd.to_numeric(df_encoded['vl_salario_mil'])\n",
    "\n",
    "# Standardize the numerical features\n",
    "for column in df_encoded.select_dtypes(include=['int64', 'float64']):\n",
    "    if column != 'SCORE_CREDITO':  # Exclude the target variable from standardization\n",
    "        df_encoded[column] = (df_encoded[column] - df_encoded[column].mean()) / df_encoded[column].std()\n",
    "\n",
    "# Drop the column `id`\n",
    "df_encoded = df_encoded.drop('id', axis=1)\n",
    "\n",
    "# Convert the column `sexo` to numeric\n",
    "df_encoded['sexo'] = df_encoded['sexo'].replace({'M': 1, 'F': 0})\n",
    "\n",
    "# Convert the column `SCORE_CREDITO` to numeric\n",
    "df_encoded['SCORE_CREDITO'] = df_encoded['SCORE_CREDITO'].astype(str).str.replace(',', '.')\n",
    "df_encoded['SCORE_CREDITO'] = pd.to_numeric(df_encoded['SCORE_CREDITO'])\n",
    "\n",
    "# Split the data into features and target\n",
    "X = df_encoded.drop('SCORE_CREDITO', axis=1)\n",
    "y = df_encoded['SCORE_CREDITO']\n",
    "\n",
    "# Split the data into train and test sets\n",
    "X_train, X_test, y_train, y_test = train_test_split(X, y, test_size=0.2, random_state=42)\n",
    "\n",
    "# Fit the Linear Regression model on the train set\n",
    "model = LinearRegression()\n",
    "model.fit(X_train, y_train)\n",
    "\n",
    "# Evaluate the model on the test set using R-squared and RMSE metrics\n",
    "y_pred = model.predict(X_test)\n",
    "r2 = r2_score(y_test, y_pred)\n",
    "rmse = mean_squared_error(y_test, y_pred, squared=False)\n",
    "\n",
    "# Print the results\n",
    "print(\"Linear Regression:\")\n",
    "print(f\"R-squared: {r2:.4f}\")\n",
    "print(f\"RMSE: {rmse:.4f}\")\n",
    "\n",
    "# Initialize and train the Decision Tree Regressor model\n",
    "tree_model = DecisionTreeRegressor(random_state=42)\n",
    "tree_model.fit(X_train, y_train)\n",
    "\n",
    "# Make predictions on the test set\n",
    "y_pred_tree = tree_model.predict(X_test)\n",
    "\n",
    "# Evaluate the model\n",
    "r2_tree = r2_score(y_test, y_pred_tree)\n",
    "rmse_tree = mean_squared_error(y_test, y_pred_tree, squared=False)\n",
    "\n",
    "# Print the results\n",
    "print(\"Decision Tree Regressor:\")\n",
    "print(f\"R-squared: {r2_tree:.4f}\")\n",
    "print(f\"RMSE: {rmse_tree:.4f}\")"
   ]
  }
 ],
 "metadata": {
  "kernelspec": {
   "display_name": "Python 3 (ipykernel)",
   "language": "python",
   "name": "python3"
  },
  "language_info": {
   "codemirror_mode": {
    "name": "ipython",
    "version": 3
   },
   "file_extension": ".py",
   "mimetype": "text/x-python",
   "name": "python",
   "nbconvert_exporter": "python",
   "pygments_lexer": "ipython3",
   "version": "3.12.4"
  }
 },
 "nbformat": 4,
 "nbformat_minor": 5
}
